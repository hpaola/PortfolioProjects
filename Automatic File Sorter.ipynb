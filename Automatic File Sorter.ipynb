{
 "cells": [
  {
   "cell_type": "markdown",
   "id": "5b8f1e82",
   "metadata": {},
   "source": [
    "# Automatic File Sorter in Explorer"
   ]
  },
  {
   "cell_type": "code",
   "execution_count": 2,
   "id": "0062beb7",
   "metadata": {},
   "outputs": [],
   "source": [
    "import os, shutil "
   ]
  },
  {
   "cell_type": "code",
   "execution_count": 13,
   "id": "c7b3f65c",
   "metadata": {},
   "outputs": [],
   "source": [
    "path = r\"C:/Users/13233/Downloads/Python Tutorial/\""
   ]
  },
  {
   "cell_type": "code",
   "execution_count": 19,
   "id": "96d70bcb",
   "metadata": {},
   "outputs": [],
   "source": [
    "file_name = os.listdir(path)"
   ]
  },
  {
   "cell_type": "code",
   "execution_count": 26,
   "id": "05f6e672",
   "metadata": {},
   "outputs": [],
   "source": [
    "folder_names = ['Csv Files', 'Puppy Pics', 'Text Files']\n",
    "\n",
    "for loop in range(0,3):\n",
    "    if not os.path.exists(path + folder_names[loop]):\n",
    "        #print(path + folder_names[loop])\n",
    "        os.makedirs((path + folder_names[loop]))\n",
    "        \n",
    "for file in file_name:\n",
    "    if \".csv\" in file and not os.path.exists(path + \"Csv Files/\" + file):\n",
    "        shutil.move(path + file, path + \"Csv Files/\" + file)\n",
    "    elif \".png\" in file and not os.path.exists(path + \"Puppy Pics/\" + file):\n",
    "        shutil.move(path + file, path + \"Puppy Pics/\" + file)\n",
    "    elif \".txt\" in file and not os.path.exists(path + \"Text Files/\" + file):\n",
    "        shutil.move(path + file, path + \"Text Files/\" + file)"
   ]
  },
  {
   "cell_type": "code",
   "execution_count": 25,
   "id": "3767f881",
   "metadata": {},
   "outputs": [],
   "source": []
  },
  {
   "cell_type": "code",
   "execution_count": null,
   "id": "191a2bcb",
   "metadata": {},
   "outputs": [],
   "source": []
  },
  {
   "cell_type": "code",
   "execution_count": null,
   "id": "00c33274",
   "metadata": {},
   "outputs": [],
   "source": []
  },
  {
   "cell_type": "code",
   "execution_count": null,
   "id": "d240b8e8",
   "metadata": {},
   "outputs": [],
   "source": []
  },
  {
   "cell_type": "code",
   "execution_count": null,
   "id": "0f89d91a",
   "metadata": {},
   "outputs": [],
   "source": []
  },
  {
   "cell_type": "code",
   "execution_count": null,
   "id": "e81f0bd0",
   "metadata": {},
   "outputs": [],
   "source": []
  },
  {
   "cell_type": "code",
   "execution_count": null,
   "id": "8c1e7ef6",
   "metadata": {},
   "outputs": [],
   "source": []
  }
 ],
 "metadata": {
  "kernelspec": {
   "display_name": "Python 3 (ipykernel)",
   "language": "python",
   "name": "python3"
  },
  "language_info": {
   "codemirror_mode": {
    "name": "ipython",
    "version": 3
   },
   "file_extension": ".py",
   "mimetype": "text/x-python",
   "name": "python",
   "nbconvert_exporter": "python",
   "pygments_lexer": "ipython3",
   "version": "3.10.9"
  }
 },
 "nbformat": 4,
 "nbformat_minor": 5
}
